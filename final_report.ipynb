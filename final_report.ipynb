{
 "cells": [
  {
   "cell_type": "markdown",
   "metadata": {},
   "source": [
    "# Predicting Tennis Match Outcomes"
   ]
  },
  {
   "cell_type": "markdown",
   "metadata": {},
   "source": [
    "### INTRODUCTION \n",
    "\n",
    "**Background:**\n",
    "\n",
    "Having originated in the 12th century in Europe, tennis is now popularly played competitively and recreationally globally. The game, known as a match, involves using rackets to hit a ball across a net in the court between two players or pairs. Points are scored when a player is unable to return the incoming ball across the court or when the ball bounces twice on their side of the court. \n",
    "\n",
    "**Research question:**\n",
    "\n",
    "What would the outcome of a match between two players be based on previous match statistics?\n",
    "\n",
    "**Data Set:**\n",
    "\n",
    "Data analysis will be done on the \"Game results for Top 500 Players from 2017-2019\" data set [1], collected by the Association of Tennis Professionals (ATP). In the data set, each observation is data for a specific match while each variable is a match or player statistic.\n",
    "\n",
    "Variable definitions: [2] \n",
    "- tourney_id = unique identifier for each tournament \n",
    "- tourney_name = tournament name\n",
    "- surface = court surface\n",
    "- draw_size = total tournament draw size\n",
    "- tourney_level = tour events\n",
    "- tourney_date = eight digits (YYYYMMDD) usually the Monday of the tournament week\n",
    "- match_num = a match-specific identifier\n",
    "- winner_id/loser_id = player_id of the match winner/loser\n",
    "- winner_seed/loser_seed = seed of match winner/loser\n",
    "- winner_entry/loser_entry = 'WC' - wild card, 'Q' - qualifier, 'LL' - lucky loser, 'PR' - protected ranking, 'ITF' - ITF entry\n",
    "- winner_name/loser_name = name of winner/loser\n",
    "- winner_hand/loser_hand = dominant hand of winner/loser\n",
    "- winner_ht/loser_ht = height in cm\n",
    "- winner_ioc/loser_ioc = 3-character country code\n",
    "- winner_age/loser_age = age in years\n",
    "- score = final score\n",
    "- best_of = '3' or '5' indicating the number of sets for this match\n",
    "- round = round of tournament\n",
    "- minutes = match length\n",
    "- w_ace/l_ace = ace count\n",
    "- w_df/l_df = double fault counts\n",
    "- w_svpt/l_svpt = serve points\n",
    "- w_1stIn/l_1stIn = first serves made\n",
    "- w_1stWon/l_1stWon = first serve points won\n",
    "- w_2ndWon/l_2ndWon = second serve points won\n",
    "- w_SvGms/l_SvGms = service games won\n",
    "- w_bpSaved/l_bpSaved = break points saved\n",
    "- w_bpFaced/l_bpFaced = break points faced\n",
    "- winner_rank/loser_rank = ATP or WTA rank, as of the tourney_date or most recent ranking date before tourney_date\n",
    "- winner_rank_points/loser_rank_points = number of ranking points"
   ]
  },
  {
   "cell_type": "markdown",
   "metadata": {},
   "source": [
    "### METHODS AND RESULTS"
   ]
  },
  {
   "cell_type": "markdown",
   "metadata": {},
   "source": [
    "The variables used for data analysis: (for both winner and loser)\n",
    "- Country of representation\n",
    "- Age (years)\n",
    "- Aces \n",
    "- Double fault counts \n",
    "- Serve points\n",
    "- First serves made\n",
    "- First serve points won\n",
    "- Second serve points won\n",
    "- Service games won\n",
    "- Break points saved\n",
    "- Break points faced\n",
    "\n",
    "NOTE: rows in which W/O was found in the score column were filtered out. \n",
    "\n",
    "Quantitative match statistics are the focus of our research question, thus all such variables were used for data analysis. Additional variables such as age and country of representation were chosen based on their perceived influence on likelihood to win or lose a match [3], but they don't appear to be relevant in our preliminary analysis.\n",
    "\n",
    "A K-nearest neighbors classification model will be made to evaluate the outcome of a match between two tennis players using their previous match data with the above variables as predictors. The model will then be tuned with the training data and finally performance will be assessed using the testing data. The results will be visualized by plotting K to show the effect of each predictor on match outcome. "
   ]
  },
  {
   "cell_type": "code",
   "execution_count": 3,
   "metadata": {},
   "outputs": [],
   "source": [
    "library(plyr)\n",
    "library(tidyverse)\n",
    "library(repr)\n",
    "library(tidymodels)\n",
    "set.seed(1)"
   ]
  },
  {
   "cell_type": "markdown",
   "metadata": {},
   "source": [
    "**Exploring the Data:**"
   ]
  },
  {
   "cell_type": "code",
   "execution_count": 4,
   "metadata": {},
   "outputs": [
    {
     "name": "stderr",
     "output_type": "stream",
     "text": [
      "Warning message:\n",
      "“Missing column names filled in: 'X1' [1]”\n",
      "Parsed with column specification:\n",
      "cols(\n",
      "  .default = col_double(),\n",
      "  tourney_id = \u001b[31mcol_character()\u001b[39m,\n",
      "  tourney_name = \u001b[31mcol_character()\u001b[39m,\n",
      "  surface = \u001b[31mcol_character()\u001b[39m,\n",
      "  tourney_level = \u001b[31mcol_character()\u001b[39m,\n",
      "  winner_seed = \u001b[31mcol_character()\u001b[39m,\n",
      "  winner_entry = \u001b[31mcol_character()\u001b[39m,\n",
      "  winner_name = \u001b[31mcol_character()\u001b[39m,\n",
      "  winner_hand = \u001b[31mcol_character()\u001b[39m,\n",
      "  winner_ioc = \u001b[31mcol_character()\u001b[39m,\n",
      "  loser_seed = \u001b[31mcol_character()\u001b[39m,\n",
      "  loser_entry = \u001b[31mcol_character()\u001b[39m,\n",
      "  loser_name = \u001b[31mcol_character()\u001b[39m,\n",
      "  loser_hand = \u001b[31mcol_character()\u001b[39m,\n",
      "  loser_ioc = \u001b[31mcol_character()\u001b[39m,\n",
      "  score = \u001b[31mcol_character()\u001b[39m,\n",
      "  round = \u001b[31mcol_character()\u001b[39m\n",
      ")\n",
      "\n",
      "See spec(...) for full column specifications.\n",
      "\n"
     ]
    },
    {
     "data": {
      "text/html": [
       "<table>\n",
       "<caption>A tibble: 6 × 50</caption>\n",
       "<thead>\n",
       "\t<tr><th scope=col>X1</th><th scope=col>tourney_id</th><th scope=col>tourney_name</th><th scope=col>surface</th><th scope=col>draw_size</th><th scope=col>tourney_level</th><th scope=col>tourney_date</th><th scope=col>match_num</th><th scope=col>winner_id</th><th scope=col>winner_seed</th><th scope=col>⋯</th><th scope=col>l_1stIn</th><th scope=col>l_1stWon</th><th scope=col>l_2ndWon</th><th scope=col>l_SvGms</th><th scope=col>l_bpSaved</th><th scope=col>l_bpFaced</th><th scope=col>winner_rank</th><th scope=col>winner_rank_points</th><th scope=col>loser_rank</th><th scope=col>loser_rank_points</th></tr>\n",
       "\t<tr><th scope=col>&lt;dbl&gt;</th><th scope=col>&lt;chr&gt;</th><th scope=col>&lt;chr&gt;</th><th scope=col>&lt;chr&gt;</th><th scope=col>&lt;dbl&gt;</th><th scope=col>&lt;chr&gt;</th><th scope=col>&lt;dbl&gt;</th><th scope=col>&lt;dbl&gt;</th><th scope=col>&lt;dbl&gt;</th><th scope=col>&lt;chr&gt;</th><th scope=col>⋯</th><th scope=col>&lt;dbl&gt;</th><th scope=col>&lt;dbl&gt;</th><th scope=col>&lt;dbl&gt;</th><th scope=col>&lt;dbl&gt;</th><th scope=col>&lt;dbl&gt;</th><th scope=col>&lt;dbl&gt;</th><th scope=col>&lt;dbl&gt;</th><th scope=col>&lt;dbl&gt;</th><th scope=col>&lt;dbl&gt;</th><th scope=col>&lt;dbl&gt;</th></tr>\n",
       "</thead>\n",
       "<tbody>\n",
       "\t<tr><td>0</td><td>2019-M020</td><td>Brisbane</td><td>Hard</td><td>32</td><td>A</td><td>20181231</td><td>300</td><td>105453</td><td>2 </td><td>⋯</td><td>54</td><td>34</td><td>20</td><td>14</td><td>10</td><td>15</td><td>  9</td><td>3590</td><td> 16</td><td>1977</td></tr>\n",
       "\t<tr><td>1</td><td>2019-M020</td><td>Brisbane</td><td>Hard</td><td>32</td><td>A</td><td>20181231</td><td>299</td><td>106421</td><td>4 </td><td>⋯</td><td>52</td><td>36</td><td> 7</td><td>10</td><td>10</td><td>13</td><td> 16</td><td>1977</td><td>239</td><td> 200</td></tr>\n",
       "\t<tr><td>2</td><td>2019-M020</td><td>Brisbane</td><td>Hard</td><td>32</td><td>A</td><td>20181231</td><td>298</td><td>105453</td><td>2 </td><td>⋯</td><td>27</td><td>15</td><td> 6</td><td> 8</td><td> 1</td><td> 5</td><td>  9</td><td>3590</td><td> 40</td><td>1050</td></tr>\n",
       "\t<tr><td>3</td><td>2019-M020</td><td>Brisbane</td><td>Hard</td><td>32</td><td>A</td><td>20181231</td><td>297</td><td>104542</td><td>NA</td><td>⋯</td><td>60</td><td>38</td><td> 9</td><td>11</td><td> 4</td><td> 6</td><td>239</td><td> 200</td><td> 31</td><td>1298</td></tr>\n",
       "\t<tr><td>4</td><td>2019-M020</td><td>Brisbane</td><td>Hard</td><td>32</td><td>A</td><td>20181231</td><td>296</td><td>106421</td><td>4 </td><td>⋯</td><td>56</td><td>46</td><td>19</td><td>15</td><td> 2</td><td> 4</td><td> 16</td><td>1977</td><td> 18</td><td>1855</td></tr>\n",
       "\t<tr><td>5</td><td>2019-M020</td><td>Brisbane</td><td>Hard</td><td>32</td><td>A</td><td>20181231</td><td>295</td><td>104871</td><td>NA</td><td>⋯</td><td>54</td><td>40</td><td>18</td><td>15</td><td> 6</td><td> 9</td><td> 40</td><td>1050</td><td>185</td><td> 275</td></tr>\n",
       "</tbody>\n",
       "</table>\n"
      ],
      "text/latex": [
       "A tibble: 6 × 50\n",
       "\\begin{tabular}{lllllllllllllllllllll}\n",
       " X1 & tourney\\_id & tourney\\_name & surface & draw\\_size & tourney\\_level & tourney\\_date & match\\_num & winner\\_id & winner\\_seed & ⋯ & l\\_1stIn & l\\_1stWon & l\\_2ndWon & l\\_SvGms & l\\_bpSaved & l\\_bpFaced & winner\\_rank & winner\\_rank\\_points & loser\\_rank & loser\\_rank\\_points\\\\\n",
       " <dbl> & <chr> & <chr> & <chr> & <dbl> & <chr> & <dbl> & <dbl> & <dbl> & <chr> & ⋯ & <dbl> & <dbl> & <dbl> & <dbl> & <dbl> & <dbl> & <dbl> & <dbl> & <dbl> & <dbl>\\\\\n",
       "\\hline\n",
       "\t 0 & 2019-M020 & Brisbane & Hard & 32 & A & 20181231 & 300 & 105453 & 2  & ⋯ & 54 & 34 & 20 & 14 & 10 & 15 &   9 & 3590 &  16 & 1977\\\\\n",
       "\t 1 & 2019-M020 & Brisbane & Hard & 32 & A & 20181231 & 299 & 106421 & 4  & ⋯ & 52 & 36 &  7 & 10 & 10 & 13 &  16 & 1977 & 239 &  200\\\\\n",
       "\t 2 & 2019-M020 & Brisbane & Hard & 32 & A & 20181231 & 298 & 105453 & 2  & ⋯ & 27 & 15 &  6 &  8 &  1 &  5 &   9 & 3590 &  40 & 1050\\\\\n",
       "\t 3 & 2019-M020 & Brisbane & Hard & 32 & A & 20181231 & 297 & 104542 & NA & ⋯ & 60 & 38 &  9 & 11 &  4 &  6 & 239 &  200 &  31 & 1298\\\\\n",
       "\t 4 & 2019-M020 & Brisbane & Hard & 32 & A & 20181231 & 296 & 106421 & 4  & ⋯ & 56 & 46 & 19 & 15 &  2 &  4 &  16 & 1977 &  18 & 1855\\\\\n",
       "\t 5 & 2019-M020 & Brisbane & Hard & 32 & A & 20181231 & 295 & 104871 & NA & ⋯ & 54 & 40 & 18 & 15 &  6 &  9 &  40 & 1050 & 185 &  275\\\\\n",
       "\\end{tabular}\n"
      ],
      "text/markdown": [
       "\n",
       "A tibble: 6 × 50\n",
       "\n",
       "| X1 &lt;dbl&gt; | tourney_id &lt;chr&gt; | tourney_name &lt;chr&gt; | surface &lt;chr&gt; | draw_size &lt;dbl&gt; | tourney_level &lt;chr&gt; | tourney_date &lt;dbl&gt; | match_num &lt;dbl&gt; | winner_id &lt;dbl&gt; | winner_seed &lt;chr&gt; | ⋯ ⋯ | l_1stIn &lt;dbl&gt; | l_1stWon &lt;dbl&gt; | l_2ndWon &lt;dbl&gt; | l_SvGms &lt;dbl&gt; | l_bpSaved &lt;dbl&gt; | l_bpFaced &lt;dbl&gt; | winner_rank &lt;dbl&gt; | winner_rank_points &lt;dbl&gt; | loser_rank &lt;dbl&gt; | loser_rank_points &lt;dbl&gt; |\n",
       "|---|---|---|---|---|---|---|---|---|---|---|---|---|---|---|---|---|---|---|---|---|\n",
       "| 0 | 2019-M020 | Brisbane | Hard | 32 | A | 20181231 | 300 | 105453 | 2  | ⋯ | 54 | 34 | 20 | 14 | 10 | 15 |   9 | 3590 |  16 | 1977 |\n",
       "| 1 | 2019-M020 | Brisbane | Hard | 32 | A | 20181231 | 299 | 106421 | 4  | ⋯ | 52 | 36 |  7 | 10 | 10 | 13 |  16 | 1977 | 239 |  200 |\n",
       "| 2 | 2019-M020 | Brisbane | Hard | 32 | A | 20181231 | 298 | 105453 | 2  | ⋯ | 27 | 15 |  6 |  8 |  1 |  5 |   9 | 3590 |  40 | 1050 |\n",
       "| 3 | 2019-M020 | Brisbane | Hard | 32 | A | 20181231 | 297 | 104542 | NA | ⋯ | 60 | 38 |  9 | 11 |  4 |  6 | 239 |  200 |  31 | 1298 |\n",
       "| 4 | 2019-M020 | Brisbane | Hard | 32 | A | 20181231 | 296 | 106421 | 4  | ⋯ | 56 | 46 | 19 | 15 |  2 |  4 |  16 | 1977 |  18 | 1855 |\n",
       "| 5 | 2019-M020 | Brisbane | Hard | 32 | A | 20181231 | 295 | 104871 | NA | ⋯ | 54 | 40 | 18 | 15 |  6 |  9 |  40 | 1050 | 185 |  275 |\n",
       "\n"
      ],
      "text/plain": [
       "  X1 tourney_id tourney_name surface draw_size tourney_level tourney_date\n",
       "1 0  2019-M020  Brisbane     Hard    32        A             20181231    \n",
       "2 1  2019-M020  Brisbane     Hard    32        A             20181231    \n",
       "3 2  2019-M020  Brisbane     Hard    32        A             20181231    \n",
       "4 3  2019-M020  Brisbane     Hard    32        A             20181231    \n",
       "5 4  2019-M020  Brisbane     Hard    32        A             20181231    \n",
       "6 5  2019-M020  Brisbane     Hard    32        A             20181231    \n",
       "  match_num winner_id winner_seed ⋯ l_1stIn l_1stWon l_2ndWon l_SvGms l_bpSaved\n",
       "1 300       105453    2           ⋯ 54      34       20       14      10       \n",
       "2 299       106421    4           ⋯ 52      36        7       10      10       \n",
       "3 298       105453    2           ⋯ 27      15        6        8       1       \n",
       "4 297       104542    NA          ⋯ 60      38        9       11       4       \n",
       "5 296       106421    4           ⋯ 56      46       19       15       2       \n",
       "6 295       104871    NA          ⋯ 54      40       18       15       6       \n",
       "  l_bpFaced winner_rank winner_rank_points loser_rank loser_rank_points\n",
       "1 15          9         3590                16        1977             \n",
       "2 13         16         1977               239         200             \n",
       "3  5          9         3590                40        1050             \n",
       "4  6        239          200                31        1298             \n",
       "5  4         16         1977                18        1855             \n",
       "6  9         40         1050               185         275             "
      ]
     },
     "metadata": {},
     "output_type": "display_data"
    }
   ],
   "source": [
    "# reading the data frame from a URL link\n",
    "tennis <- read_csv(\"https://drive.google.com/uc?export=download&id=1fOQ8sy_qMkQiQEAO6uFdRX4tLI8EpSTn\")\n",
    "head(tennis)"
   ]
  },
  {
   "cell_type": "code",
   "execution_count": null,
   "metadata": {},
   "outputs": [],
   "source": [
    "# wrangling and tidying the data\n",
    "tennis <- filter(tennis, score!= \"W/O\")\n",
    "tennis[\"Index\"] <- seq(1, 6823) # \"Index\" column is added to keep track of matches and therefore players\n",
    "tennis <- select(tennis, winner_ioc, loser_ioc, winner_age, loser_age, w_ace, w_df, w_svpt, w_1stIn, w_1stWon, \n",
    "    w_2ndWon, w_SvGms, w_bpSaved, w_bpFaced, l_ace, l_df, l_svpt, l_1stIn, l_1stWon, l_2ndWon, l_SvGms, \n",
    "    l_bpSaved, l_bpFaced)\n",
    "\n",
    "# seperate the statistics for winning and losing players\n",
    "tennis_w <- select(tennis, starts_with(\"w\")) \n",
    "tennis_w[\"Outcome\"] <- \"W\"\n",
    "colnames(tennis_w) = gsub(\"w_\",\"\",colnames(tennis_w))\n",
    "colnames(tennis_w) = gsub(\"winner_\",\"\",colnames(tennis_w))\n",
    "tennis_w[\"Index\"] <- seq(1, 6823)\n",
    "\n",
    "tennis_L <- select(tennis, starts_with(\"l\"))\n",
    "tennis_L[\"Outcome\"] <- \"L\"\n",
    "colnames(tennis_L) = gsub(\"l_\",\"\",colnames(tennis_L))\n",
    "colnames(tennis_L) = gsub(\"loser_\",\"\",colnames(tennis_L))\n",
    "tennis_L[\"Index\"] <- seq(1, 6823)\n",
    "\n",
    "# rejoin the statistics for winning and losing players\n",
    "tennis <- rbind(tennis_w, tennis_L)\n",
    "\n",
    "# changing the column names that start with numbers\n",
    "names(tennis)[6] <- \"firstIn\"\n",
    "names(tennis)[7] <- \"firstWon\"\n",
    "names(tennis)[8] <- \"secondWon\""
   ]
  },
  {
   "cell_type": "code",
   "execution_count": null,
   "metadata": {},
   "outputs": [],
   "source": [
    "# split the data set into training and testing sets\n",
    "tennis_split <- initial_split(tennis, prop = 0.75, strata = Outcome)\n",
    "tennis_train <- training(tennis_split)\n",
    "tennis_test <- testing(tennis_split) \n",
    "tennis_train\n",
    "\n",
    "# the following exploratory data analysis only uses the training set"
   ]
  },
  {
   "cell_type": "code",
   "execution_count": null,
   "metadata": {},
   "outputs": [],
   "source": [
    "# exploratory data analysis table\n",
    "\n",
    "means_table <- tennis_train %>%\n",
    "    select(-ioc, -Outcome, -Index) %>%\n",
    "    map_df(mean, na.rm = TRUE)\n",
    "means_table"
   ]
  },
  {
   "cell_type": "code",
   "execution_count": null,
   "metadata": {},
   "outputs": [],
   "source": [
    "# exploratory data analysis plot 1:\n",
    "\n",
    "options(repr.plot.width = 17, repr.plot.height = 9) \n",
    "\n",
    "ioc_plot <- tennis_train %>% \n",
    "   ggplot(aes(x = ioc, fill = Outcome)) + \n",
    "   geom_histogram(stat = \"count\", position = position_dodge(), width = .5) + \n",
    "   xlab(\"Country of Representation\") +\n",
    "   ylab(\"Count\") +\n",
    "   theme(text = element_text(size = 18)) +\n",
    "   theme(axis.text.x = element_text(angle = 50, hjust = 1)) + \n",
    "   ggtitle(\"Players' Country of Representation\") +\n",
    "   theme(plot.title = element_text(hjust = 0.5))\n",
    "ioc_plot"
   ]
  },
  {
   "cell_type": "code",
   "execution_count": null,
   "metadata": {},
   "outputs": [],
   "source": [
    "# INSIGHTS FROM GRAPH"
   ]
  },
  {
   "cell_type": "code",
   "execution_count": null,
   "metadata": {},
   "outputs": [],
   "source": [
    "# exploratory data analysis plot 2:\n",
    "\n",
    "options(repr.plot.width = 15, repr.plot.height = 8) \n",
    "\n",
    "age_plot <- tennis_train %>% \n",
    "   ggplot(aes(x = round(age), fill = Outcome)) + \n",
    "   geom_bar(stat = \"count\", position = position_dodge(), width = 0.5) + \n",
    "   xlab(\"Age (Rounded to the nearest Year)\")+\n",
    "   ylab(\"Count\") +\n",
    "   theme(text = element_text(size = 18)) +\n",
    "   ggtitle(\"Players' Ages\") + \n",
    "   theme(plot.title = element_text(hjust = 0.5))\n",
    "age_plot"
   ]
  },
  {
   "cell_type": "code",
   "execution_count": null,
   "metadata": {},
   "outputs": [],
   "source": [
    "# INSIGHTS FROM GRAPH"
   ]
  },
  {
   "cell_type": "code",
   "execution_count": null,
   "metadata": {},
   "outputs": [],
   "source": [
    "# exploratory data analysis plot 3:\n",
    "\n",
    "options(repr.plot.width = 15, repr.plot.height = 8) \n",
    "\n",
    "ace_plot <- tennis_train %>% \n",
    "   ggplot(aes(x = ace, fill=Outcome)) + \n",
    "   geom_histogram(stat = \"count\", position=position_dodge(), width = 0.5) + \n",
    "   xlab(\"Aces\") +\n",
    "   ylab(\"Count\") +\n",
    "   theme(text = element_text(size = 18)) +\n",
    "   ggtitle(\"Frequency of Aces\") + \n",
    "   theme(plot.title = element_text(hjust = 0.5))\n",
    "ace_plot"
   ]
  },
  {
   "cell_type": "code",
   "execution_count": null,
   "metadata": {},
   "outputs": [],
   "source": [
    "# INSIGHTS FROM GRAPH"
   ]
  },
  {
   "cell_type": "code",
   "execution_count": null,
   "metadata": {},
   "outputs": [],
   "source": [
    "# exploratory data analysis plot 4:\n",
    "\n",
    "options(repr.plot.width = 13, repr.plot.height = 7) \n",
    "\n",
    "df_plot <- tennis_train %>% \n",
    "   ggplot(aes(x = df, fill = Outcome)) + \n",
    "   geom_histogram(stat = \"count\", position=position_dodge(), width = 0.5) + \n",
    "   xlab(\"Double Faults\") +\n",
    "   ylab(\"Count\") +\n",
    "   theme(text = element_text(size = 17)) +\n",
    "   ggtitle(\"Frequency of Double Faults\") + \n",
    "   theme(plot.title = element_text(hjust = 0.5))\n",
    "df_plot"
   ]
  },
  {
   "cell_type": "code",
   "execution_count": null,
   "metadata": {},
   "outputs": [],
   "source": [
    "# INSIGHTS FROM GRAPH"
   ]
  },
  {
   "cell_type": "code",
   "execution_count": null,
   "metadata": {},
   "outputs": [],
   "source": [
    "# exploratory data analysis plot 5: \n",
    "\n",
    "options(repr.plot.width = 18, repr.plot.height = 9)\n",
    "\n",
    "svpt_plot <- tennis_train %>% \n",
    "   ggplot(aes(x = svpt, fill = Outcome)) + \n",
    "   geom_histogram(stat = \"count\", position = position_dodge(), width = 0.5) + \n",
    "   xlab(\"Serve Points\") +\n",
    "   ylab(\"Count\") +\n",
    "   theme(text = element_text(size = 18)) +\n",
    "   ggtitle(\"Frequency of Serve Points\") + \n",
    "   theme(plot.title = element_text(hjust = 0.5))\n",
    "svpt_plot"
   ]
  },
  {
   "cell_type": "code",
   "execution_count": null,
   "metadata": {},
   "outputs": [],
   "source": [
    "# INSIGHTS FROM GRAPH"
   ]
  },
  {
   "cell_type": "code",
   "execution_count": null,
   "metadata": {},
   "outputs": [],
   "source": [
    "# exploratory data analysis plot 6:\n",
    "\n",
    "options(repr.plot.width = 18, repr.plot.height = 9)\n",
    "\n",
    "firstIn_plot <- tennis_train %>% \n",
    "   ggplot(aes(x = firstIn, fill=Outcome)) + \n",
    "   geom_histogram(stat = \"count\", position = position_dodge(), width = .5) + \n",
    "   xlab(\"First Serves Made\") +\n",
    "   ylab(\"Count\") +\n",
    "   theme(text = element_text(size = 19)) +\n",
    "   ggtitle(\"Frequency of First Serves Made\") + \n",
    "   theme(plot.title = element_text(hjust = 0.5))\n",
    "firstIn_plot"
   ]
  },
  {
   "cell_type": "code",
   "execution_count": null,
   "metadata": {},
   "outputs": [],
   "source": [
    "# INSIGHTS FROM GRAPH"
   ]
  },
  {
   "cell_type": "code",
   "execution_count": null,
   "metadata": {},
   "outputs": [],
   "source": [
    "# exploratory data analysis plot 7:\n",
    "\n",
    "options(repr.plot.width = 18, repr.plot.height = 10)\n",
    "\n",
    "firstWon_plot <- tennis_train %>% \n",
    "   ggplot(aes(x = firstWon, fill = Outcome)) + \n",
    "   geom_histogram(stat=\"count\", position = position_dodge()) + \n",
    "   xlab(\"First Serves Points Won\") +\n",
    "   ylab(\"Count\") +\n",
    "   theme(text = element_text(size = 20)) +\n",
    "   ggtitle(\"Frequency of First Serve Points Won\") + \n",
    "   theme(plot.title = element_text(hjust = 0.5))\n",
    "firstWon_plot"
   ]
  },
  {
   "cell_type": "code",
   "execution_count": null,
   "metadata": {},
   "outputs": [],
   "source": [
    "# INSIGHTS FROM GRAPH"
   ]
  },
  {
   "cell_type": "code",
   "execution_count": null,
   "metadata": {},
   "outputs": [],
   "source": [
    "# exploratory data analysis plot 8:\n",
    "\n",
    "options(repr.plot.width = 18, repr.plot.height = 9)\n",
    "\n",
    "secondWon_plot <- tennis_train %>% \n",
    "   ggplot(aes(x = secondWon, fill=Outcome)) + \n",
    "   geom_histogram(stat = \"count\", position=position_dodge(), width = .5) + \n",
    "   xlab(\"Second Serves Points Won\") +\n",
    "   ylab(\"Count\") +\n",
    "   theme(text = element_text(size = 19)) +\n",
    "   theme(axis.text.x = element_text(angle = 40, hjust = 1)) + \n",
    "   ggtitle(\"Frequency of Second Serve Points Won\") +\n",
    "   theme(plot.title = element_text(hjust = 0.5))\n",
    "secondWon_plot"
   ]
  },
  {
   "cell_type": "code",
   "execution_count": null,
   "metadata": {},
   "outputs": [],
   "source": [
    "# INSIGHTS FROM GRAPH"
   ]
  },
  {
   "cell_type": "code",
   "execution_count": null,
   "metadata": {},
   "outputs": [],
   "source": [
    "# exploratory data analysis plot 9:\n",
    "\n",
    "options(repr.plot.width = 15, repr.plot.height = 8)\n",
    "\n",
    "SvGms_plot <- tennis_train %>% \n",
    "   ggplot(aes(x = SvGms, fill=Outcome)) + \n",
    "   geom_histogram(stat = \"count\", position=position_dodge(), width = .7) + \n",
    "   xlab(\"Service Games Won\") +\n",
    "   ylab(\"Count\") +\n",
    "   theme(text = element_text(size = 18)) +\n",
    "   theme(axis.text.x = element_text(angle = 40, hjust = 1)) + \n",
    "   ggtitle(\"Frequency of Service Games Won\") +\n",
    "   theme(plot.title = element_text(hjust = 0.5))\n",
    "SvGms_plot"
   ]
  },
  {
   "cell_type": "code",
   "execution_count": null,
   "metadata": {},
   "outputs": [],
   "source": [
    "# INSIGHTS FROM GRAPH"
   ]
  },
  {
   "cell_type": "code",
   "execution_count": null,
   "metadata": {},
   "outputs": [],
   "source": [
    "# exploratory data analysis plot 10:\n",
    "\n",
    "options(repr.plot.width = 14, repr.plot.height = 7)\n",
    "\n",
    "bpFaced_plot <- tennis_train %>% \n",
    "   ggplot(aes(x = bpFaced, fill=Outcome)) + \n",
    "   geom_histogram(stat = \"count\", position=position_dodge(), width = .5) + \n",
    "   xlab(\"Break Points Faced\") +\n",
    "   ylab(\"Count\") +\n",
    "   theme(text = element_text(size = 16)) +\n",
    "   theme(axis.text.x = element_text(angle = 40, hjust = 1)) + \n",
    "   ggtitle(\"Frequency of Break Points Faced\") +\n",
    "   theme(plot.title = element_text(hjust = 0.5))\n",
    "bpFaced_plot"
   ]
  },
  {
   "cell_type": "code",
   "execution_count": null,
   "metadata": {},
   "outputs": [],
   "source": [
    "# INSIGHTS FROM GRAPH"
   ]
  },
  {
   "cell_type": "code",
   "execution_count": null,
   "metadata": {},
   "outputs": [],
   "source": [
    "# exploratory data analysis plot 11:\n",
    "\n",
    "options(repr.plot.width = 15, repr.plot.height = 8)\n",
    "\n",
    "bpSaved_plot <- tennis_train %>% \n",
    "   ggplot(aes(x = bpSaved, fill=Outcome)) + \n",
    "   geom_histogram(stat = \"count\", position=position_dodge(), width = .5) + \n",
    "   xlab(\"Break Points Saved\") +\n",
    "   ylab(\"Count\") +\n",
    "   theme(text = element_text(size = 17)) +\n",
    "   theme(axis.text.x = element_text(angle = 40, hjust = 1)) + \n",
    "   ggtitle(\"Frequency of Break Points Saved\") +\n",
    "   theme(plot.title = element_text(hjust = 0.5))\n",
    "bpSaved_plot"
   ]
  },
  {
   "cell_type": "code",
   "execution_count": null,
   "metadata": {},
   "outputs": [],
   "source": [
    "# INSIGHTS FROM GRAPH"
   ]
  },
  {
   "cell_type": "markdown",
   "metadata": {},
   "source": [
    "**Classification:**"
   ]
  },
  {
   "cell_type": "code",
   "execution_count": null,
   "metadata": {},
   "outputs": [],
   "source": [
    "# KNN classification"
   ]
  },
  {
   "cell_type": "code",
   "execution_count": null,
   "metadata": {},
   "outputs": [],
   "source": [
    "# visualization "
   ]
  },
  {
   "cell_type": "markdown",
   "metadata": {},
   "source": [
    "### DISCUSSION\n",
    "\n",
    "- summarize what you found\n",
    "- discuss whether this is what you expected to find?\n",
    "- discuss what impact could such findings have?\n",
    "- discuss what future questions could this lead to?\n",
    "\n",
    "FROM PROPOSAL:\n",
    "\n",
    "We expect to find a correlation between match statistics and match outcome. For example, a player that has a high number of aces is more likely to win the match, and vice versa. \n",
    "\n",
    "This data analysis can have an impact on the training of tennis players. If certain match statistics are found to increase the chance of winning a match, players could focus on training those skills. Additionally, the data could also benefit audiences who participate in betting. Using previous match statistics or data from early matches, participants could more accurately place money on the winning player.  \n",
    "\n",
    "**Future questions that could be investigated:**\n",
    "- Could these predictions be used to find rank difference, winner rank and loser rank?\n",
    "- Are certain match statistics more influential in the match outcome than others?"
   ]
  },
  {
   "cell_type": "markdown",
   "metadata": {},
   "source": [
    "### REFERENCES\n",
    "[1] https://drive.google.com/uc?export=download&id=1fOQ8sy_qMkQiQEAO6uFdRX4tLI8EpSTn\n",
    "\n",
    "[2] https://count.co/notebook/j0OYDOaWDmn\n",
    "\n",
    "[3] De Seranno, A. (2020). Predicting Tennis Matches Using Machine Learning (dissertation). Ghent University, Ghent. "
   ]
  }
 ],
 "metadata": {
  "kernelspec": {
   "display_name": "R",
   "language": "R",
   "name": "ir"
  },
  "language_info": {
   "codemirror_mode": "r",
   "file_extension": ".r",
   "mimetype": "text/x-r-source",
   "name": "R",
   "pygments_lexer": "r",
   "version": "4.0.0"
  }
 },
 "nbformat": 4,
 "nbformat_minor": 4
}
